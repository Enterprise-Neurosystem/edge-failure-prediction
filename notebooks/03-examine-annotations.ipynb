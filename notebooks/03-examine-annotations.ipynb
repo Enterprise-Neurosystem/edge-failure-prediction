{
 "cells": [
  {
   "cell_type": "markdown",
   "id": "bbbdb991-da9b-4b95-ac12-0556f69da89a",
   "metadata": {
    "tags": []
   },
   "source": [
    "# Examine Machine Status Annotations"
   ]
  },
  {
   "cell_type": "code",
   "execution_count": null,
   "id": "385123a8-110b-4b95-9d83-80e57ddd9370",
   "metadata": {
    "tags": []
   },
   "outputs": [],
   "source": [
    "# Import packages\n",
    "\n",
    "# data manipulation\n",
    "import pandas as pd\n",
    "import numpy as np\n",
    "\n",
    "# create and remove directories\n",
    "import os\n",
    "\n",
    "# database connection\n",
    "import psycopg2"
   ]
  },
  {
   "cell_type": "markdown",
   "id": "f05ec017-4290-435d-8376-e90023002a2f",
   "metadata": {},
   "source": [
    "# Steps\n",
    "1. Fetch the data from an AWS PostgreSQL database\n",
    "2. Convert the `machine_status` values from categorial to numeric "
   ]
  },
  {
   "cell_type": "markdown",
   "id": "5f535ff1-03ed-4704-9953-36bf28353a92",
   "metadata": {},
   "source": [
    "## 1. Fetch pump sensor data from a PostgreSQL database"
   ]
  },
  {
   "cell_type": "markdown",
   "id": "0f099c6e-b715-4fc3-bb09-19177bc3a477",
   "metadata": {},
   "source": [
    "The data has been downloaded from Kaggle and stored in an AWS PostgreSQL database. Kaggle data source: https://www.kaggle.com/datasets/nphantawee/pump-sensor-data\n",
    "\n",
    "We need to connect to the database and read the pump sensor data into a dataframe."
   ]
  },
  {
   "cell_type": "code",
   "execution_count": null,
   "id": "53a5ba73-9c64-414d-8eda-b6c44c335fa9",
   "metadata": {
    "tags": []
   },
   "outputs": [],
   "source": [
    "def get_all_as_df():\n",
    "    conn = psycopg2.connect(\n",
    "        database=\"predict-db\",\n",
    "        user=\"predict-db\",\n",
    "        password=\"failureislame\",\n",
    "        host=\"localhost\",\n",
    "    )\n",
    "\n",
    "    GET_ALL_ROWS = \"Select * from waterpump order by timestamp\"\n",
    "\n",
    "    try:\n",
    "        with conn:\n",
    "            # Pull our dataset into a pandas dataframe\n",
    "            df = pd.read_sql_query(GET_ALL_ROWS, conn)\n",
    "            df.set_index(\"timestamp\", inplace=True)\n",
    "    except (Exception, psycopg2.DatabaseError) as err:\n",
    "        print(err)\n",
    "    else:\n",
    "        return df\n",
    "    finally:\n",
    "        conn.close()"
   ]
  },
  {
   "cell_type": "code",
   "execution_count": null,
   "id": "a16736ce-98c2-4027-9ae3-65d642a64c0c",
   "metadata": {
    "tags": []
   },
   "outputs": [],
   "source": [
    "df = get_all_as_df()\n",
    "\n",
    "# first 5 rows\n",
    "df.head()"
   ]
  },
  {
   "attachments": {},
   "cell_type": "markdown",
   "id": "adda6d89-bc4b-464c-8893-cd732bffa015",
   "metadata": {
    "tags": []
   },
   "source": [
    "## 2. Convert the `machine_status` values from categorical to numeric  "
   ]
  },
  {
   "cell_type": "markdown",
   "id": "df93d370-a444-48d8-ba3e-0b4a24f3836a",
   "metadata": {},
   "source": [
    "As you can see, the values in the `machine_status` column are categorical: 'BROKEN', 'NORMAL', 'RECOVERING'. We need to convert them to numeric values so that the model can interpret them. "
   ]
  },
  {
   "cell_type": "code",
   "execution_count": null,
   "id": "d240a22d-25ea-4c74-a8d0-41866a3ac0cb",
   "metadata": {
    "tags": []
   },
   "outputs": [],
   "source": [
    "def machine_status_to_numeric(df):\n",
    "    \"\"\"Make 'machine_status\" column numeric\n",
    "    Numeric values are 0: 'NORMAL';, 1: 'BROKEN', 0.5: 'RECOVERING'\n",
    "    :param df: DataFrame\n",
    "    :type: Pandas DataFrame\n",
    "    :return: none\n",
    "    \"\"\"\n",
    "    status_values = [\n",
    "        (df[\"machine_status\"] == \"NORMAL\"),\n",
    "        (df[\"machine_status\"] == \"BROKEN\"),\n",
    "        (df[\"machine_status\"] == \"RECOVERING\"),\n",
    "    ]\n",
    "    numeric_status_values = [0, 1, 0.5]\n",
    "\n",
    "    df[\"machine_status\"] = np.select(status_values, numeric_status_values, default=0)"
   ]
  },
  {
   "cell_type": "code",
   "execution_count": null,
   "id": "e05b4c60-240b-402c-8b89-6a908b314bff",
   "metadata": {
    "tags": []
   },
   "outputs": [],
   "source": [
    "machine_status_to_numeric(df)\n",
    "\n",
    "df.head()"
   ]
  },
  {
   "cell_type": "markdown",
   "id": "71118f12-ab02-44d0-94f8-69f880a7abac",
   "metadata": {},
   "source": [
    "Let's save the dataframe to a csv file so that we won't have to fetch it from the database or convert the machine_status column values from catergorical to numeric again in the following notebooks."
   ]
  },
  {
   "cell_type": "code",
   "execution_count": null,
   "id": "076abfea-c7f8-46be-9683-36ad9e4f024c",
   "metadata": {
    "tags": []
   },
   "outputs": [],
   "source": [
    "# create name for the directory\n",
    "outdir = \"./scratch\"\n",
    "\n",
    "# create name for the csv file\n",
    "outname = \"newkaggle.csv\"\n",
    "\n",
    "# check if the a directory named data exists, if not create it\n",
    "if not os.path.exists(outdir):\n",
    "    os.mkdir(outdir)\n",
    "\n",
    "fullname = os.path.join(outdir, outname)\n",
    "\n",
    "# save the dataframe to csv file\n",
    "df.to_csv(fullname)"
   ]
  },
  {
   "cell_type": "markdown",
   "id": "8a99b6d6-bec5-412e-93f2-cb3bd6216923",
   "metadata": {},
   "source": [
    "Now that we converted the categorical values in the `machine_status` column to numeric values, let's move on to our next notebook, `04-graph_annotations.ipynb`, where we will visualize the some of the data. "
   ]
  }
 ],
 "metadata": {
  "kernelspec": {
   "display_name": "Python 3 (ipykernel)",
   "language": "python",
   "name": "python3"
  },
  "language_info": {
   "codemirror_mode": {
    "name": "ipython",
    "version": 3
   },
   "file_extension": ".py",
   "mimetype": "text/x-python",
   "name": "python",
   "nbconvert_exporter": "python",
   "pygments_lexer": "ipython3",
   "version": "3.9.16"
  }
 },
 "nbformat": 4,
 "nbformat_minor": 5
}
