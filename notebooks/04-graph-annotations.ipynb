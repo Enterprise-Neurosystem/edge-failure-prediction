{
 "cells": [
  {
   "cell_type": "markdown",
   "id": "bda7cf5f-eed4-4bc6-a0af-e36764d90a2e",
   "metadata": {},
   "source": [
    "# Graph Annotations"
   ]
  },
  {
   "cell_type": "code",
   "execution_count": null,
   "id": "7aea844d-b4d3-402f-ae18-24a89e972ce7",
   "metadata": {
    "tags": []
   },
   "outputs": [],
   "source": [
    "# Import packages\n",
    "\n",
    "# data manipulation\n",
    "import pandas as pd\n",
    "\n",
    "# data visualization\n",
    "import matplotlib.pyplot as plt"
   ]
  },
  {
   "cell_type": "markdown",
   "id": "b0185fd1-df38-49ad-97d2-6d81aef479d0",
   "metadata": {},
   "source": [
    "# Steps \n",
    "1. Load the data using pandas\n",
    "2. Plot some sensor data"
   ]
  },
  {
   "cell_type": "markdown",
   "id": "d5d4ab54-c270-46e2-8e29-8b57775c5184",
   "metadata": {},
   "source": [
    "## 1. Load the data using pandas"
   ]
  },
  {
   "cell_type": "code",
   "execution_count": null,
   "id": "88cd0328-3de6-461b-bf36-b11ec5268c9b",
   "metadata": {
    "tags": []
   },
   "outputs": [],
   "source": [
    "df = pd.read_csv('scratch/newkaggle.csv')\n",
    "\n",
    "# first 5 rows\n",
    "df.head()"
   ]
  },
  {
   "cell_type": "markdown",
   "id": "88ddfb59-7862-4b50-a9bc-eba37b8b4b14",
   "metadata": {},
   "source": [
    "## 2. Plot some sensor data"
   ]
  },
  {
   "cell_type": "markdown",
   "id": "293c8789-5c1b-475e-847e-0f0bcdc66928",
   "metadata": {},
   "source": [
    "Plot three sensor values and compare the plots to the plot of the machine_status column. "
   ]
  },
  {
   "cell_type": "code",
   "execution_count": null,
   "id": "e9ebd344-83c0-4859-a374-785c29e04129",
   "metadata": {
    "tags": []
   },
   "outputs": [],
   "source": [
    "def plot_specific_cols(df):\n",
    "    \"\"\" Plot three sensors and the machine_status column. \n",
    "    \n",
    "    :param df: DataFrame\n",
    "    :return: Plots for sensors and machine_status\n",
    "    \"\"\"\n",
    "    \n",
    "    df[['sensor_03', 'sensor_04', 'sensor_21', 'machine_status']].plot( kind='line', \n",
    "                                             figsize=(10,4),subplots=True)\n",
    "    plt.tight_layout()\n",
    "    plt.show()"
   ]
  },
  {
   "cell_type": "code",
   "execution_count": null,
   "id": "f02bb773-fd58-434e-8d4f-bb99c097ecf2",
   "metadata": {
    "tags": []
   },
   "outputs": [],
   "source": [
    "plot_specific_cols(df)"
   ]
  },
  {
   "cell_type": "markdown",
   "id": "f90ae8a7-0e44-4fc0-ab5b-6753f4c7024a",
   "metadata": {},
   "source": [
    "Now that we observed a trend in machine status where failures and recoveries occur within short durations time period of each other, let's head over to ..., where we will further explore the data."
   ]
  }
 ],
 "metadata": {
  "kernelspec": {
   "display_name": "Python 3 (ipykernel)",
   "language": "python",
   "name": "python3"
  },
  "language_info": {
   "codemirror_mode": {
    "name": "ipython",
    "version": 3
   },
   "file_extension": ".py",
   "mimetype": "text/x-python",
   "name": "python",
   "nbconvert_exporter": "python",
   "pygments_lexer": "ipython3",
   "version": "3.9.16"
  }
 },
 "nbformat": 4,
 "nbformat_minor": 5
}
