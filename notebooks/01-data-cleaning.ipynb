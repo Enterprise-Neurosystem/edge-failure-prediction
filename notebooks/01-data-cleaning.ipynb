{
 "cells": [
  {
   "cell_type": "markdown",
   "id": "e5157c4a-0ff0-4e13-a754-c3c4037d247a",
   "metadata": {},
   "source": [
    "# Data Cleaning\n",
    "When collecting data from online or real-time sources, the dataset is always a bit dirty. There may be missing values, nulls, or just incorrect inputs. \n",
    "\n",
    "Our columns are relatively clean, so we won't show a very expansive set of cleaning tools, but feel free to check out more of our workshops to experiment with other types of data."
   ]
  },
  {
   "cell_type": "code",
   "execution_count": 36,
   "id": "273d1853-41bf-4ef2-988b-41882a72adec",
   "metadata": {
    "tags": []
   },
   "outputs": [
    {
     "name": "stdout",
     "output_type": "stream",
     "text": [
      "Current working directory: /Users/cory/Documents/git/edge-failure-prediction/notebooks\n"
     ]
    }
   ],
   "source": [
    "import os\n",
    "import pandas as pd\n",
    "import psycopg2\n",
    "\n",
    "import warnings\n",
    "warnings.filterwarnings('ignore')\n",
    "\n",
    "# Get the current working directory\n",
    "cwd = os.getcwd()\n",
    "\n",
    "# Print the current working directory\n",
    "print(\"Current working directory: {0}\".format(cwd))"
   ]
  },
  {
   "cell_type": "code",
   "execution_count": 37,
   "id": "e50659e4-6228-45fd-a0ea-d5b97702d6a2",
   "metadata": {
    "tags": []
   },
   "outputs": [],
   "source": [
    "# check if the a directory exists, if not create it\n",
    "outdir = './scratch'\n",
    "\n",
    "if not os.path.exists(outdir):\n",
    "    os.mkdir(outdir)"
   ]
  },
  {
   "cell_type": "code",
   "execution_count": 38,
   "id": "095ca72c-2a0f-471a-8d73-0606de80e374",
   "metadata": {
    "tags": []
   },
   "outputs": [],
   "source": [
    "# creates a connection to a database\n",
    "conn = psycopg2.connect(\n",
    "database=\"predict-db\", \n",
    "    user='predict-db', \n",
    "    password='failureislame', \n",
    "    host='localhost')\n",
    "\n",
    "GET_ALL_ROWS = 'Select * from waterpump order by timestamp'\n",
    "\n",
    "try:\n",
    "    with conn:\n",
    "        #Pull our dataset into a pandas dataframe\n",
    "        df = pd.read_sql_query(GET_ALL_ROWS, conn)\n",
    "        df.set_index('timestamp', inplace=True)\n",
    "except (Exception, psycopg2.DatabaseError) as err:\n",
    "    print(err)\n",
    "finally:\n",
    "    conn.close()"
   ]
  },
  {
   "cell_type": "markdown",
   "id": "454e2c35-b0c2-44b4-b594-3d47e00ef5d1",
   "metadata": {},
   "source": [
    "### Lets make a copy of the dataset, so that if we make a mistake or just want a clean version of the dataset, we don't need to run that cell above again."
   ]
  },
  {
   "cell_type": "code",
   "execution_count": 39,
   "id": "1b945ccf-56d2-449d-863d-6105e959aca9",
   "metadata": {
    "tags": []
   },
   "outputs": [],
   "source": [
    "df_original =  df.copy()"
   ]
  },
  {
   "cell_type": "markdown",
   "id": "60eecad1-f861-4a05-b410-970dce27a28c",
   "metadata": {},
   "source": [
    "### As we said before, we have some nulls in the data. Let's see if any columns are unusable."
   ]
  },
  {
   "cell_type": "code",
   "execution_count": 40,
   "id": "ef86daaa-ec36-4009-b114-7c958b50ac82",
   "metadata": {
    "tags": []
   },
   "outputs": [
    {
     "name": "stdout",
     "output_type": "stream",
     "text": [
      "machine_status         0\n",
      "sensor_19             16\n",
      "sensor_23             16\n",
      "sensor_24             16\n",
      "sensor_27             16\n",
      "sensor_28             16\n",
      "sensor_31             16\n",
      "sensor_20             16\n",
      "sensor_33             16\n",
      "sensor_21             16\n",
      "sensor_35             16\n",
      "sensor_36             16\n",
      "sensor_37             16\n",
      "sensor_34             16\n",
      "sensor_11             19\n",
      "sensor_12             19\n",
      "sensor_13             19\n",
      "sensor_05             19\n",
      "sensor_04             19\n",
      "sensor_03             19\n",
      "sensor_02             19\n",
      "sensor_10             19\n",
      "sensor_26             20\n",
      "sensor_14             21\n",
      "sensor_47             27\n",
      "sensor_41             27\n",
      "sensor_40             27\n",
      "sensor_39             27\n",
      "sensor_38             27\n",
      "sensor_44             27\n",
      "sensor_45             27\n",
      "sensor_46             27\n",
      "sensor_42             27\n",
      "sensor_43             27\n",
      "sensor_48             27\n",
      "sensor_49             27\n",
      "sensor_16             31\n",
      "sensor_25             36\n",
      "sensor_22             41\n",
      "sensor_17             46\n",
      "sensor_18             46\n",
      "sensor_32             68\n",
      "sensor_29             72\n",
      "sensor_30            261\n",
      "sensor_01            369\n",
      "sensor_09           4595\n",
      "sensor_06           4798\n",
      "sensor_08           5107\n",
      "sensor_07           5451\n",
      "sensor_00          10208\n",
      "sensor_51          15383\n",
      "sensor_50          77017\n",
      "sensor_15         220320\n",
      "dtype: int64\n"
     ]
    }
   ],
   "source": [
    "nulls_series = df.isnull().sum()\n",
    "print(nulls_series.sort_values())"
   ]
  },
  {
   "attachments": {},
   "cell_type": "markdown",
   "id": "3a2bb829-ea89-424a-8e71-ee408a49743f",
   "metadata": {},
   "source": [
    "### Something looks wrong with sensor_15 data..."
   ]
  },
  {
   "cell_type": "code",
   "execution_count": 41,
   "id": "7dc816b1",
   "metadata": {},
   "outputs": [
    {
     "data": {
      "text/plain": [
       "array([None], dtype=object)"
      ]
     },
     "execution_count": 41,
     "metadata": {},
     "output_type": "execute_result"
    }
   ],
   "source": [
    "df['sensor_15'].unique()"
   ]
  },
  {
   "cell_type": "code",
   "execution_count": 42,
   "id": "9ecacecb",
   "metadata": {},
   "outputs": [],
   "source": [
    "# drop it like it's hot\n",
    "df.drop('sensor_15', axis=1, errors='ignore', inplace=True)"
   ]
  },
  {
   "cell_type": "code",
   "execution_count": 43,
   "id": "7e126bdf-9d28-4098-80da-813626ac9a80",
   "metadata": {
    "tags": []
   },
   "outputs": [
    {
     "data": {
      "text/plain": [
       "sensor_51     15383\n",
       "sensor_50     77017\n",
       "sensor_15    220320\n",
       "dtype: int64"
      ]
     },
     "metadata": {},
     "output_type": "display_data"
    },
    {
     "name": "stdout",
     "output_type": "stream",
     "text": [
      "Index(['sensor_00', 'sensor_01', 'sensor_02', 'sensor_03', 'sensor_04',\n",
      "       'sensor_05', 'sensor_06', 'sensor_07', 'sensor_08', 'sensor_09',\n",
      "       'sensor_10', 'sensor_11', 'sensor_12', 'sensor_13', 'sensor_14',\n",
      "       'sensor_16', 'sensor_17', 'sensor_18', 'sensor_19', 'sensor_20',\n",
      "       'sensor_21', 'sensor_22', 'sensor_23', 'sensor_24', 'sensor_25',\n",
      "       'sensor_26', 'sensor_27', 'sensor_28', 'sensor_29', 'sensor_30',\n",
      "       'sensor_31', 'sensor_32', 'sensor_33', 'sensor_34', 'sensor_35',\n",
      "       'sensor_36', 'sensor_37', 'sensor_38', 'sensor_39', 'sensor_40',\n",
      "       'sensor_41', 'sensor_42', 'sensor_43', 'sensor_44', 'sensor_45',\n",
      "       'sensor_46', 'sensor_47', 'sensor_48', 'sensor_49', 'machine_status'],\n",
      "      dtype='object')\n"
     ]
    }
   ],
   "source": [
    "# select the number of columns with too many null values\n",
    "number_removed = 3\n",
    "empty_cols = nulls_series.sort_values().tail(number_removed)\n",
    "display(empty_cols)\n",
    "\n",
    "# get the names of the columns in a list\n",
    "bad_col_list = list(empty_cols.keys())\n",
    "\n",
    "# drop the bad columns\n",
    "df.drop(bad_col_list, axis=1, errors='ignore', inplace=True)\n",
    "print(df.columns)"
   ]
  },
  {
   "cell_type": "markdown",
   "id": "9f16b813-f983-4e32-8859-9f9172af36d2",
   "metadata": {},
   "source": [
    "### When we ultimately train a model, we'll need to get all of or columns into numbers\n",
    "### If a non-numerical feature has a discrete distribution, we can implement a practice called one-hot-encoding that will assign our values 0 (False) or 1 (True)"
   ]
  },
  {
   "cell_type": "code",
   "execution_count": 44,
   "id": "bff8b924-226a-4571-9f65-d92810ce5e5a",
   "metadata": {
    "tags": []
   },
   "outputs": [],
   "source": [
    "# we have an in-between stage, 'recovering', so we'll label it 0.5\n",
    "\n",
    "# a dictionary can be used to one-to-one map values in a series\n",
    "status_map = {'NORMAL': 0, 'BROKEN': 1, 'RECOVERING':0.5}\n",
    "\n",
    "df['machine_status'] = df['machine_status'].map(status_map)"
   ]
  },
  {
   "cell_type": "markdown",
   "id": "c4e1267c-6cc1-4f4c-b484-d2d9fcda2a03",
   "metadata": {},
   "source": [
    "### The index of our dataframe, the time, contains strings. Let's give them a smarter type that understands time."
   ]
  },
  {
   "cell_type": "code",
   "execution_count": 45,
   "id": "c74ca58a-9176-4ba4-968e-83e2abba516c",
   "metadata": {
    "tags": []
   },
   "outputs": [],
   "source": [
    "df.index = pd.to_datetime(df.index)"
   ]
  },
  {
   "cell_type": "markdown",
   "id": "8980e17b-c723-461e-99dc-d1098297953a",
   "metadata": {},
   "source": [
    "### Now that all of our columns are numerical, we can run some math operations ourselves for testing purposes."
   ]
  },
  {
   "cell_type": "code",
   "execution_count": 46,
   "id": "c0d1953f-6587-4d2c-beca-c47f65441d91",
   "metadata": {
    "tags": []
   },
   "outputs": [
    {
     "data": {
      "text/html": [
       "<div>\n",
       "<style scoped>\n",
       "    .dataframe tbody tr th:only-of-type {\n",
       "        vertical-align: middle;\n",
       "    }\n",
       "\n",
       "    .dataframe tbody tr th {\n",
       "        vertical-align: top;\n",
       "    }\n",
       "\n",
       "    .dataframe thead th {\n",
       "        text-align: right;\n",
       "    }\n",
       "</style>\n",
       "<table border=\"1\" class=\"dataframe\">\n",
       "  <thead>\n",
       "    <tr style=\"text-align: right;\">\n",
       "      <th></th>\n",
       "      <th>sensor_00</th>\n",
       "      <th>sensor_01</th>\n",
       "      <th>sensor_02</th>\n",
       "      <th>sensor_03</th>\n",
       "      <th>sensor_04</th>\n",
       "      <th>sensor_05</th>\n",
       "      <th>sensor_06</th>\n",
       "      <th>sensor_07</th>\n",
       "      <th>sensor_08</th>\n",
       "      <th>sensor_09</th>\n",
       "      <th>sensor_10</th>\n",
       "      <th>sensor_11</th>\n",
       "      <th>sensor_12</th>\n",
       "      <th>sensor_13</th>\n",
       "      <th>sensor_14</th>\n",
       "    </tr>\n",
       "  </thead>\n",
       "  <tbody>\n",
       "    <tr>\n",
       "      <th>count</th>\n",
       "      <td>210112.000000</td>\n",
       "      <td>219951.000000</td>\n",
       "      <td>220301.000000</td>\n",
       "      <td>220301.000000</td>\n",
       "      <td>220301.000000</td>\n",
       "      <td>220301.000000</td>\n",
       "      <td>215522.000000</td>\n",
       "      <td>214869.000000</td>\n",
       "      <td>215213.000000</td>\n",
       "      <td>215725.000000</td>\n",
       "      <td>220301.000000</td>\n",
       "      <td>220301.000000</td>\n",
       "      <td>220301.000000</td>\n",
       "      <td>220301.000000</td>\n",
       "      <td>220299.000000</td>\n",
       "    </tr>\n",
       "    <tr>\n",
       "      <th>mean</th>\n",
       "      <td>2.372221</td>\n",
       "      <td>47.591611</td>\n",
       "      <td>50.867392</td>\n",
       "      <td>43.752481</td>\n",
       "      <td>590.673936</td>\n",
       "      <td>73.396414</td>\n",
       "      <td>13.501537</td>\n",
       "      <td>15.843152</td>\n",
       "      <td>15.200721</td>\n",
       "      <td>14.799210</td>\n",
       "      <td>41.470339</td>\n",
       "      <td>41.918319</td>\n",
       "      <td>29.136975</td>\n",
       "      <td>7.078858</td>\n",
       "      <td>376.860041</td>\n",
       "    </tr>\n",
       "    <tr>\n",
       "      <th>std</th>\n",
       "      <td>0.412227</td>\n",
       "      <td>3.296666</td>\n",
       "      <td>3.666820</td>\n",
       "      <td>2.418887</td>\n",
       "      <td>144.023912</td>\n",
       "      <td>17.298247</td>\n",
       "      <td>2.163736</td>\n",
       "      <td>2.201155</td>\n",
       "      <td>2.037390</td>\n",
       "      <td>2.091963</td>\n",
       "      <td>12.093519</td>\n",
       "      <td>13.056425</td>\n",
       "      <td>10.113935</td>\n",
       "      <td>6.901755</td>\n",
       "      <td>113.206382</td>\n",
       "    </tr>\n",
       "    <tr>\n",
       "      <th>min</th>\n",
       "      <td>0.000000</td>\n",
       "      <td>0.000000</td>\n",
       "      <td>33.159720</td>\n",
       "      <td>31.640620</td>\n",
       "      <td>2.798032</td>\n",
       "      <td>0.000000</td>\n",
       "      <td>0.014468</td>\n",
       "      <td>0.000000</td>\n",
       "      <td>0.028935</td>\n",
       "      <td>0.000000</td>\n",
       "      <td>0.000000</td>\n",
       "      <td>0.000000</td>\n",
       "      <td>0.000000</td>\n",
       "      <td>0.000000</td>\n",
       "      <td>32.409550</td>\n",
       "    </tr>\n",
       "    <tr>\n",
       "      <th>25%</th>\n",
       "      <td>2.438831</td>\n",
       "      <td>46.310760</td>\n",
       "      <td>50.390620</td>\n",
       "      <td>42.838539</td>\n",
       "      <td>626.620400</td>\n",
       "      <td>69.976260</td>\n",
       "      <td>13.346350</td>\n",
       "      <td>15.907120</td>\n",
       "      <td>15.183740</td>\n",
       "      <td>15.053530</td>\n",
       "      <td>40.705260</td>\n",
       "      <td>38.856420</td>\n",
       "      <td>28.686810</td>\n",
       "      <td>1.538516</td>\n",
       "      <td>418.103250</td>\n",
       "    </tr>\n",
       "    <tr>\n",
       "      <th>50%</th>\n",
       "      <td>2.456539</td>\n",
       "      <td>48.133678</td>\n",
       "      <td>51.649300</td>\n",
       "      <td>44.227428</td>\n",
       "      <td>632.638916</td>\n",
       "      <td>75.576790</td>\n",
       "      <td>13.642940</td>\n",
       "      <td>16.167530</td>\n",
       "      <td>15.494790</td>\n",
       "      <td>15.082470</td>\n",
       "      <td>44.291340</td>\n",
       "      <td>45.363140</td>\n",
       "      <td>32.515830</td>\n",
       "      <td>2.929809</td>\n",
       "      <td>420.106200</td>\n",
       "    </tr>\n",
       "    <tr>\n",
       "      <th>75%</th>\n",
       "      <td>2.499826</td>\n",
       "      <td>49.479160</td>\n",
       "      <td>52.777770</td>\n",
       "      <td>45.312500</td>\n",
       "      <td>637.615723</td>\n",
       "      <td>80.912150</td>\n",
       "      <td>14.539930</td>\n",
       "      <td>16.427950</td>\n",
       "      <td>15.697340</td>\n",
       "      <td>15.118630</td>\n",
       "      <td>47.463760</td>\n",
       "      <td>49.656540</td>\n",
       "      <td>34.939730</td>\n",
       "      <td>12.859520</td>\n",
       "      <td>420.997100</td>\n",
       "    </tr>\n",
       "    <tr>\n",
       "      <th>max</th>\n",
       "      <td>2.549016</td>\n",
       "      <td>56.727430</td>\n",
       "      <td>56.032990</td>\n",
       "      <td>48.220490</td>\n",
       "      <td>800.000000</td>\n",
       "      <td>99.999880</td>\n",
       "      <td>22.251160</td>\n",
       "      <td>23.596640</td>\n",
       "      <td>24.348960</td>\n",
       "      <td>25.000000</td>\n",
       "      <td>76.106860</td>\n",
       "      <td>60.000000</td>\n",
       "      <td>45.000000</td>\n",
       "      <td>31.187550</td>\n",
       "      <td>500.000000</td>\n",
       "    </tr>\n",
       "  </tbody>\n",
       "</table>\n",
       "</div>"
      ],
      "text/plain": [
       "           sensor_00      sensor_01      sensor_02      sensor_03  \\\n",
       "count  210112.000000  219951.000000  220301.000000  220301.000000   \n",
       "mean        2.372221      47.591611      50.867392      43.752481   \n",
       "std         0.412227       3.296666       3.666820       2.418887   \n",
       "min         0.000000       0.000000      33.159720      31.640620   \n",
       "25%         2.438831      46.310760      50.390620      42.838539   \n",
       "50%         2.456539      48.133678      51.649300      44.227428   \n",
       "75%         2.499826      49.479160      52.777770      45.312500   \n",
       "max         2.549016      56.727430      56.032990      48.220490   \n",
       "\n",
       "           sensor_04      sensor_05      sensor_06      sensor_07  \\\n",
       "count  220301.000000  220301.000000  215522.000000  214869.000000   \n",
       "mean      590.673936      73.396414      13.501537      15.843152   \n",
       "std       144.023912      17.298247       2.163736       2.201155   \n",
       "min         2.798032       0.000000       0.014468       0.000000   \n",
       "25%       626.620400      69.976260      13.346350      15.907120   \n",
       "50%       632.638916      75.576790      13.642940      16.167530   \n",
       "75%       637.615723      80.912150      14.539930      16.427950   \n",
       "max       800.000000      99.999880      22.251160      23.596640   \n",
       "\n",
       "           sensor_08      sensor_09      sensor_10      sensor_11  \\\n",
       "count  215213.000000  215725.000000  220301.000000  220301.000000   \n",
       "mean       15.200721      14.799210      41.470339      41.918319   \n",
       "std         2.037390       2.091963      12.093519      13.056425   \n",
       "min         0.028935       0.000000       0.000000       0.000000   \n",
       "25%        15.183740      15.053530      40.705260      38.856420   \n",
       "50%        15.494790      15.082470      44.291340      45.363140   \n",
       "75%        15.697340      15.118630      47.463760      49.656540   \n",
       "max        24.348960      25.000000      76.106860      60.000000   \n",
       "\n",
       "           sensor_12      sensor_13      sensor_14  \n",
       "count  220301.000000  220301.000000  220299.000000  \n",
       "mean       29.136975       7.078858     376.860041  \n",
       "std        10.113935       6.901755     113.206382  \n",
       "min         0.000000       0.000000      32.409550  \n",
       "25%        28.686810       1.538516     418.103250  \n",
       "50%        32.515830       2.929809     420.106200  \n",
       "75%        34.939730      12.859520     420.997100  \n",
       "max        45.000000      31.187550     500.000000  "
      ]
     },
     "execution_count": 46,
     "metadata": {},
     "output_type": "execute_result"
    }
   ],
   "source": [
    "df.describe().iloc[:, :15]"
   ]
  },
  {
   "cell_type": "markdown",
   "id": "c1a310aa-02ad-4bf7-a915-6ac291240b03",
   "metadata": {},
   "source": [
    "### Let's check all the means of our sensors. And while we're at it, let's fill in any null values with those means, so we don't change the average."
   ]
  },
  {
   "cell_type": "code",
   "execution_count": 47,
   "id": "0f36c2c6-47bd-4cc3-8b8a-078f6c0a0e11",
   "metadata": {
    "tags": []
   },
   "outputs": [
    {
     "name": "stdout",
     "output_type": "stream",
     "text": [
      "sensor_00           2.372221\n",
      "sensor_01          47.591611\n",
      "sensor_02          50.867392\n",
      "sensor_03          43.752481\n",
      "sensor_04         590.673936\n",
      "sensor_05          73.396414\n",
      "sensor_06          13.501537\n",
      "sensor_07          15.843152\n",
      "sensor_08          15.200721\n",
      "sensor_09          14.799210\n",
      "sensor_10          41.470339\n",
      "sensor_11          41.918319\n",
      "sensor_12          29.136975\n",
      "sensor_13           7.078858\n",
      "sensor_14         376.860041\n",
      "sensor_16         416.472892\n",
      "sensor_17         421.127517\n",
      "sensor_18           2.303785\n",
      "sensor_19         590.829775\n",
      "sensor_20         360.805165\n",
      "sensor_21         796.225942\n",
      "sensor_22         459.792815\n",
      "sensor_23         922.609264\n",
      "sensor_24         556.235397\n",
      "sensor_25         649.144799\n",
      "sensor_26         786.411781\n",
      "sensor_27         501.506589\n",
      "sensor_28         851.690339\n",
      "sensor_29         576.195305\n",
      "sensor_30         614.596442\n",
      "sensor_31         863.323100\n",
      "sensor_32         804.283915\n",
      "sensor_33         486.405980\n",
      "sensor_34         234.971776\n",
      "sensor_35         427.129817\n",
      "sensor_36         593.033876\n",
      "sensor_37          60.787360\n",
      "sensor_38          49.655946\n",
      "sensor_39          36.610444\n",
      "sensor_40          68.844530\n",
      "sensor_41          35.365126\n",
      "sensor_42          35.453455\n",
      "sensor_43          43.879591\n",
      "sensor_44          42.656877\n",
      "sensor_45          43.094984\n",
      "sensor_46          48.018585\n",
      "sensor_47          44.340903\n",
      "sensor_48         150.889044\n",
      "sensor_49          57.119968\n",
      "machine_status      0.032886\n",
      "dtype: float64\n"
     ]
    }
   ],
   "source": [
    "col_averages = df.mean()\n",
    "print(col_averages)\n",
    "df.fillna(value=col_averages, inplace=True)"
   ]
  },
  {
   "attachments": {},
   "cell_type": "markdown",
   "id": "b745b34f-4b96-4726-9463-9c212eb44f90",
   "metadata": {},
   "source": [
    "### We should be good to go into further analysis, let's save a csv file so our next notebook can access our updated data."
   ]
  },
  {
   "cell_type": "code",
   "execution_count": 48,
   "id": "49961ae0-c6d3-489d-aa4f-e55552ea2a59",
   "metadata": {
    "tags": []
   },
   "outputs": [],
   "source": [
    "df.to_csv(outdir + '/clean-df.csv')"
   ]
  }
 ],
 "metadata": {
  "kernelspec": {
   "display_name": "Python 3 (ipykernel)",
   "language": "python",
   "name": "python3"
  },
  "language_info": {
   "codemirror_mode": {
    "name": "ipython",
    "version": 3
   },
   "file_extension": ".py",
   "mimetype": "text/x-python",
   "name": "python",
   "nbconvert_exporter": "python",
   "pygments_lexer": "ipython3",
   "version": "3.9.16"
  }
 },
 "nbformat": 4,
 "nbformat_minor": 5
}
