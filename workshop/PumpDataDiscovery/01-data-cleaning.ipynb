{
 "cells": [
  {
   "cell_type": "code",
   "execution_count": 1,
   "id": "769234bb-87a0-4f98-8591-6d4a407cb356",
   "metadata": {
    "tags": []
   },
   "outputs": [],
   "source": [
    "import os\n",
    "import pandas as pd\n",
    "import psycopg2\n",
    "import numpy as np\n",
    "\n",
    "import warnings\n",
    "warnings.filterwarnings('ignore')\n",
    "\n",
    "conn = psycopg2.connect(\n",
    "database=\"postgres\", user='ad_postgres', password='AWSw0rksh0p', \n",
    "host='db-anomalydetect-postgres.chanowujpkf4.us-east-1.rds.amazonaws.com')\n",
    "GET_ALL_ROWS = 'Select * from newkaggle order by timestamp'\n",
    "try:\n",
    "    with conn:\n",
    "        original_df = pd.read_sql_query(GET_ALL_ROWS, conn)\n",
    "        original_df.set_index('timestamp', inplace=True)\n",
    "except (Exception, psycopg2.DatabaseError) as err:\n",
    "    print(err)\n",
    "finally:\n",
    "    conn.close()"
   ]
  },
  {
   "cell_type": "code",
   "execution_count": 2,
   "id": "1b945ccf-56d2-449d-863d-6105e959aca9",
   "metadata": {},
   "outputs": [
    {
     "name": "stdout",
     "output_type": "stream",
     "text": [
      "machine_status        0\n",
      "sensor_15             0\n",
      "sensor_20            16\n",
      "sensor_19            16\n",
      "sensor_24            16\n",
      "sensor_27            16\n",
      "sensor_28            16\n",
      "sensor_31            16\n",
      "sensor_21            16\n",
      "sensor_23            16\n",
      "sensor_34            16\n",
      "sensor_35            16\n",
      "sensor_36            16\n",
      "sensor_37            16\n",
      "sensor_33            16\n",
      "sensor_10            19\n",
      "sensor_12            19\n",
      "sensor_13            19\n",
      "sensor_05            19\n",
      "sensor_04            19\n",
      "sensor_03            19\n",
      "sensor_02            19\n",
      "sensor_11            19\n",
      "sensor_26            20\n",
      "sensor_14            21\n",
      "sensor_38            27\n",
      "sensor_49            27\n",
      "sensor_48            27\n",
      "sensor_47            27\n",
      "sensor_46            27\n",
      "sensor_45            27\n",
      "sensor_44            27\n",
      "sensor_43            27\n",
      "sensor_42            27\n",
      "sensor_41            27\n",
      "sensor_40            27\n",
      "sensor_39            27\n",
      "sensor_16            31\n",
      "sensor_25            36\n",
      "sensor_22            41\n",
      "sensor_18            46\n",
      "sensor_17            46\n",
      "sensor_32            68\n",
      "sensor_29            72\n",
      "sensor_30           261\n",
      "sensor_01           369\n",
      "sensor_09          4595\n",
      "sensor_06          4798\n",
      "sensor_08          5107\n",
      "sensor_07          5451\n",
      "sensor_00         10208\n",
      "sensor_51         15383\n",
      "sensor_50         77017\n",
      "dtype: int64\n"
     ]
    }
   ],
   "source": [
    "df =  original_df.copy()\n",
    "\n",
    "nulls_series = df.isnull().sum()\n",
    "print(nulls_series.sort_values())"
   ]
  },
  {
   "cell_type": "code",
   "execution_count": 3,
   "id": "7e126bdf-9d28-4098-80da-813626ac9a80",
   "metadata": {},
   "outputs": [
    {
     "data": {
      "text/plain": [
       "sensor_00    10208\n",
       "sensor_51    15383\n",
       "sensor_50    77017\n",
       "dtype: int64"
      ]
     },
     "metadata": {},
     "output_type": "display_data"
    },
    {
     "name": "stdout",
     "output_type": "stream",
     "text": [
      "Index(['sensor_01', 'sensor_02', 'sensor_03', 'sensor_04', 'sensor_05',\n",
      "       'sensor_06', 'sensor_07', 'sensor_08', 'sensor_09', 'sensor_10',\n",
      "       'sensor_11', 'sensor_12', 'sensor_13', 'sensor_14', 'sensor_15',\n",
      "       'sensor_16', 'sensor_17', 'sensor_18', 'sensor_19', 'sensor_20',\n",
      "       'sensor_21', 'sensor_22', 'sensor_23', 'sensor_24', 'sensor_25',\n",
      "       'sensor_26', 'sensor_27', 'sensor_28', 'sensor_29', 'sensor_30',\n",
      "       'sensor_31', 'sensor_32', 'sensor_33', 'sensor_34', 'sensor_35',\n",
      "       'sensor_36', 'sensor_37', 'sensor_38', 'sensor_39', 'sensor_40',\n",
      "       'sensor_41', 'sensor_42', 'sensor_43', 'sensor_44', 'sensor_45',\n",
      "       'sensor_46', 'sensor_47', 'sensor_48', 'sensor_49', 'machine_status'],\n",
      "      dtype='object')\n"
     ]
    }
   ],
   "source": [
    "empty_cols = nulls_series.sort_values().tail(3)\n",
    "display(empty_cols)\n",
    "bad_col_list = list(empty_cols.keys())\n",
    "\n",
    "df.drop(bad_col_list, axis=1, errors='ignore', inplace=True)\n",
    "print(df.columns)"
   ]
  },
  {
   "cell_type": "code",
   "execution_count": 4,
   "id": "bff8b924-226a-4571-9f65-d92810ce5e5a",
   "metadata": {},
   "outputs": [],
   "source": [
    "status_map = {'NORMAL': 0, 'BROKEN': 1, 'RECOVERING':0.5}\n",
    "df['machine_status'] = df['machine_status'].map(status_map)"
   ]
  },
  {
   "cell_type": "code",
   "execution_count": null,
   "id": "0f36c2c6-47bd-4cc3-8b8a-078f6c0a0e11",
   "metadata": {},
   "outputs": [],
   "source": [
    "col_averages = df.mean()\n",
    "print(col_averages)\n",
    "df.fillna(value=col_averages, inplace=True)"
   ]
  },
  {
   "cell_type": "code",
   "execution_count": 6,
   "id": "2f3b51b6-b389-4b20-a3f1-49e0a87ed537",
   "metadata": {},
   "outputs": [
    {
     "data": {
      "text/plain": [
       "array([0.])"
      ]
     },
     "execution_count": 6,
     "metadata": {},
     "output_type": "execute_result"
    }
   ],
   "source": [
    "df['sensor_15'].unique()"
   ]
  },
  {
   "cell_type": "code",
   "execution_count": 7,
   "id": "fc3ce712-0115-4ce3-86f3-39cb21f59dc8",
   "metadata": {},
   "outputs": [],
   "source": [
    "df.drop('sensor_15', axis=1, errors='ignore', inplace=True)"
   ]
  },
  {
   "cell_type": "code",
   "execution_count": 8,
   "id": "49961ae0-c6d3-489d-aa4f-e55552ea2a59",
   "metadata": {},
   "outputs": [],
   "source": [
    "df.to_csv('clean-df.csv')"
   ]
  }
 ],
 "metadata": {
  "kernelspec": {
   "display_name": "Python 3 (ipykernel)",
   "language": "python",
   "name": "python3"
  },
  "language_info": {
   "codemirror_mode": {
    "name": "ipython",
    "version": 3
   },
   "file_extension": ".py",
   "mimetype": "text/x-python",
   "name": "python",
   "nbconvert_exporter": "python",
   "pygments_lexer": "ipython3",
   "version": "3.8.12"
  }
 },
 "nbformat": 4,
 "nbformat_minor": 5
}
