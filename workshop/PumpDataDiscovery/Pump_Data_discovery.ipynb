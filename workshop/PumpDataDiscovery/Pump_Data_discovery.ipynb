{
 "cells": [
  {
   "cell_type": "code",
   "execution_count": 33,
   "metadata": {},
   "outputs": [
    {
     "name": "stdout",
     "output_type": "stream",
     "text": [
      "Current working directory: /Users/eliguidera/jupyter/venv3-8/PumpDataDiscovery\n",
      "Current working directory: /Users/eliguidera/jupyter/venv3-8/PumpDataDiscovery\n"
     ]
    }
   ],
   "source": [
    "#import sys\n",
    "#!{sys.executable} -m pip install numpy --upgrade\n",
    "#!{sys.executable} -m pip install pandas --upgrade\n",
    "#!{sys.executable} -m pip install matplotlib --upgrade\n",
    "#!{sys.executable} -m pip install sklearn --upgrade\n",
    "\n",
    "\n",
    "import os\n",
    "import pandas as pd\n",
    "import numpy as np\n",
    "from matplotlib import pyplot as plt\n",
    "from sklearn.preprocessing import MinMaxScaler\n",
    "from sklearn.decomposition import PCA\n",
    "import psycopg2\n",
    "\n",
    "import warnings\n",
    "warnings.filterwarnings('ignore')\n",
    "\n",
    "\n",
    "\n",
    "# Get the current working directory\n",
    "cwd = os.getcwd()\n",
    "\n",
    "# Print the current working directory\n",
    "print(\"Current working directory: {0}\".format(cwd))\n",
    "os.chdir('../PumpDataDiscovery')\n",
    "cwd = os.getcwd()\n",
    "print(\"Current working directory: {0}\".format(cwd))"
   ]
  },
  {
   "cell_type": "code",
   "execution_count": 34,
   "metadata": {},
   "outputs": [],
   "source": [
    "\n",
    "def get_all_as_df():\n",
    "    conn = psycopg2.connect(\n",
    "    database=\"postgres\", user='ad_postgres', password='AWSw0rksh0p', \n",
    "    host='db-anomalydetect-postgres.chanowujpkf4.us-east-1.rds.amazonaws.com')\n",
    "    GET_ALL_ROWS = 'Select * from newkaggle order by timestamp'\n",
    "    try:\n",
    "        with conn:\n",
    "            df = pd.read_sql_query(GET_ALL_ROWS, conn)\n",
    "            df.set_index('timestamp', inplace=True)\n",
    "    except (Exception, psycopg2.DatabaseError) as err:\n",
    "        print(err)\n",
    "    else:\n",
    "        return df\n",
    "    finally:\n",
    "        conn.close()"
   ]
  },
  {
   "cell_type": "code",
   "execution_count": 35,
   "metadata": {},
   "outputs": [],
   "source": [
    "def get_null_list(df):\n",
    "    \"\"\"Get list of sums of nulls.\n",
    "    Get list by columns showing how many nulls are in each column\n",
    "    :param df: DataFrame\n",
    "    :type: Pandas DataFrame\n",
    "    :return: List of sums of nulls\n",
    "    :type: List\n",
    "    \"\"\"\n",
    "    nulls_series = df.isnull().sum()\n",
    "    return nulls_series"
   ]
  },
  {
   "cell_type": "code",
   "execution_count": 36,
   "metadata": {},
   "outputs": [],
   "source": [
    "def drop_bad_cols(df, col_list):\n",
    "    \"\"\"Drop unusable columns inplace\n",
    "\n",
    "    :param df: DataFrame\n",
    "    :type: Pandas DataFrame\n",
    "    :param col_list: List of unusable column names\n",
    "    :return: none\n",
    "    \"\"\"\n",
    "    df.drop(col_list, axis=1, errors='ignore', inplace=True)"
   ]
  },
  {
   "cell_type": "code",
   "execution_count": 37,
   "metadata": {},
   "outputs": [],
   "source": [
    "def machine_status_to_numeric(df):\n",
    "    \"\"\"Make 'machine_status\" column numeric\n",
    "    Numeric values are 0: 'NORMAL';, 1: 'BROKEN', 0.5: 'RECOVERING'\n",
    "    :param df: DataFrame\n",
    "    :type: Pandas DataFrame\n",
    "    :return: none\n",
    "    \"\"\"\n",
    "    status_values = [(df['machine_status'] == 'NORMAL'), (df['machine_status'] == 'BROKEN'),\n",
    "                     (df['machine_status'] == 'RECOVERING')]\n",
    "    numeric_status_values = [0, 1, 0.5]\n",
    "\n",
    "    df['machine_status'] = np.select(status_values, numeric_status_values, default=0)"
   ]
  },
  {
   "cell_type": "code",
   "execution_count": 38,
   "metadata": {},
   "outputs": [],
   "source": [
    "def get_failure_times(df):\n",
    "    \"\"\"Get DataFrame of rows where 'machine_status' has a value of 1\n",
    "\n",
    "    :param df: DataFrame\n",
    "    :return: Failure times\n",
    "    :type: DatetimeIndex\n",
    "    \"\"\"\n",
    "    return df[df['machine_status'] == 1].index\n"
   ]
  },
  {
   "cell_type": "code",
   "execution_count": 39,
   "metadata": {},
   "outputs": [],
   "source": [
    "def plot_specific_cols(df):\n",
    "    df[['sensor_03', 'sensor_04', 'sensor_21', 'machine_status']].plot( kind='line', \n",
    "                                             figsize=(10,4),subplots=True)\n",
    "    plt.tight_layout()\n",
    "    plt.show()"
   ]
  },
  {
   "cell_type": "code",
   "execution_count": 40,
   "metadata": {},
   "outputs": [],
   "source": [
    "def get_failure_times(df):\n",
    "    \"\"\"Get DataFrame of rows where 'machine_status' has a value of 1\n",
    "\n",
    "    :param df: DataFrame\n",
    "    :return: Failure times\n",
    "    :type: DatetimeIndex\n",
    "    \"\"\"\n",
    "    return df[df['machine_status'] == 1].index"
   ]
  },
  {
   "cell_type": "code",
   "execution_count": 41,
   "metadata": {},
   "outputs": [],
   "source": [
    "def separate_data(df, failure_times):\n",
    "    \"\"\"Slice data by failure times\n",
    "    If there are 7 failure times, then produce 7 slices as DataFrames\n",
    "\n",
    "    :param df: All Data\n",
    "    :type: Pandas DataFrame\n",
    "    :param failure_times: DatetimeIndex\n",
    "    :return: DataFrames for training, validation and testing\n",
    "    :type: tuple of DataFrames\n",
    "    \"\"\"\n",
    "    df_val = df.loc[:(failure_times[0] + pd.Timedelta(seconds=60 * 120)), :]\n",
    "    df_test = df.loc[(failure_times[0] + pd.Timedelta(seconds=60 * 120)):(\n",
    "            failure_times[1] + pd.Timedelta(seconds=60 * 120)), :]\n",
    "    df_train = df.loc[failure_times[1] + pd.Timedelta(seconds=60 * 120):, :]\n",
    "\n",
    "    return df_train, df_val, df_test"
   ]
  },
  {
   "cell_type": "code",
   "execution_count": 42,
   "metadata": {},
   "outputs": [],
   "source": [
    "def replace_nan_with_mean(df):\n",
    "    \"\"\"\n",
    "    First replace all empty cells with NaN\n",
    "    Then replace NaN columnwise with mean of each column inplace\n",
    "    :param df: DataFrame\n",
    "    :type: Pandas DataFrame\n",
    "    :return: none\n",
    "    \"\"\"\n",
    "    cols = df.columns\n",
    "    df_no_blank = df.replace(r'^\\s*$', np.nan, regex=True)\n",
    "    df.fillna(value=df_no_blank[cols].mean(), inplace=True)"
   ]
  },
  {
   "cell_type": "code",
   "execution_count": 43,
   "metadata": {},
   "outputs": [],
   "source": [
    "def get_scaler(training_df):\n",
    "    \"\"\"Get a scaler for training data\n",
    "    Apply MinManScaler to the training data using the range (0, 1)\n",
    "    :param training_df:\n",
    "    :type: Pandas DataFrame\n",
    "    :param sensor_names: List of sensor names(feature names)\n",
    "    :type: list\n",
    "    :return: scaler for the training data\n",
    "    :type: MinMaxScaler\n",
    "    \"\"\"\n",
    "    sensor_names = training_df.columns[:-2]\n",
    "    min_max_scaler = MinMaxScaler(feature_range=(0, 1))\n",
    "    scaler = min_max_scaler.fit(training_df[sensor_names])\n",
    "\n",
    "    return scaler"
   ]
  },
  {
   "cell_type": "code",
   "execution_count": 44,
   "metadata": {},
   "outputs": [],
   "source": [
    "def scale_dataframe(scaler, data_df):\n",
    "    \"\"\"Transform given dataframe using given scaler as applied to the given columns\n",
    "\n",
    "    :param scaler: The scaler that has been fit to the dataframe\n",
    "    :type: MinMaxScaler\n",
    "    :param data_df: Dataframe to be scaled\n",
    "    :type: Pandas DataFrame\n",
    "    :param sensor_names: List of sensor names\n",
    "    :type: List of string\n",
    "    :return: array of scaled data\n",
    "    :type: ndarray\n",
    "    \"\"\"\n",
    "    sensor_names = data_df.columns[:-2]\n",
    "    scaled_data = scaler.transform(data_df[sensor_names])\n",
    "    return scaled_data"
   ]
  },
  {
   "cell_type": "code",
   "execution_count": 45,
   "metadata": {},
   "outputs": [],
   "source": [
    "def get_PCA(train_scaled_data, num_components=None):\n",
    "    \"\"\"Get PCA that has been fit to the scaled training data\n",
    "    PCA is the Principal Component Analysis.  Training data features are each ranked by their maximum variance from\n",
    "    all the other features.\n",
    "    :param train_scaled_data: scaled training data\n",
    "    :type: ndarray\n",
    "    :param num_components: Number of features in the training data\n",
    "    :return: Fit PCA\n",
    "    :type: PCA\n",
    "    \"\"\"\n",
    "    pca = PCA(n_components=num_components).fit(train_scaled_data)\n",
    "    return pca"
   ]
  },
  {
   "cell_type": "code",
   "execution_count": 46,
   "metadata": {},
   "outputs": [],
   "source": [
    "def plot_pca(pca, n_features):\n",
    "    #pca = PCA().fit(data_rescaled)\n",
    "\n",
    "\n",
    "    plt.rcParams[\"figure.figsize\"] = (12,6)\n",
    "\n",
    "    fig, ax = plt.subplots()\n",
    "    xi = np.arange(1, n_features, step=1)\n",
    "    y = np.cumsum(pca.explained_variance_ratio_)\n",
    "\n",
    "    plt.ylim(0.0,1.1)\n",
    "    plt.plot(xi, y, marker='o', linestyle='--', color='b')\n",
    "\n",
    "    plt.xlabel('Number of Components')\n",
    "    plt.xticks(np.arange(1, n_features, step=1)) #change from 0-based array index to 1-based human-readable label\n",
    "    plt.ylabel('Cumulative variance (%)')\n",
    "    plt.title('The number of components needed to explain variance')\n",
    "\n",
    "    plt.axhline(y=0.95, color='r', linestyle='-')\n",
    "    plt.text(25, 0.85, '95% cut-off threshold', color = 'red', fontsize=16)\n",
    "\n",
    "    ax.grid(axis='x')\n",
    "    plt.show()"
   ]
  },
  {
   "cell_type": "code",
   "execution_count": 47,
   "metadata": {},
   "outputs": [],
   "source": [
    "def transform_df_by_pca(pca, df_data, scaled_data, num_pc_to_include):\n",
    "    \"\"\"Reduce the number of features in the training data by the parameter num_features_to_include.\n",
    "\n",
    "    :param pca: The PCA for the training data\n",
    "    :type: PCA\n",
    "    :param df_data: data dataframe\n",
    "    :type: Pandas DataFrame\n",
    "    :param scaled_data: Array of scaled data\n",
    "    :type: ndarray\n",
    "    :param num_pc_to_include: Number of features to include.  Currently, this number is determined\n",
    "    by the num of PC's that were chosen by the PCA to reach 95% ( sum of explained_variance_ratio)\n",
    "    :type: int\n",
    "    \n",
    "    :return: DataFrame with data that has been scaled and whose dimensions have been reduced.  This DataFrame has\n",
    "    the same index as the param df_data\n",
    "    :type: Pandas DataFrame\n",
    "    \"\"\"\n",
    "\n",
    "    data_transformed = pca.transform(scaled_data)  # ndarray\n",
    "    df_transformed = pd.DataFrame(data_transformed)\n",
    "    pcs = ['pc' + str(i + 1) for i in range(pca.n_components_)]\n",
    "    df_transformed.columns = pcs\n",
    "\n",
    "    df_transformed.index = df_data.index\n",
    "    df_smaller = df_transformed[pcs[:num_pc_to_include]]\n",
    "    df_smaller['machine_status'] = df_data['machine_status'].values\n",
    "\n",
    "    return df_smaller"
   ]
  },
  {
   "cell_type": "markdown",
   "metadata": {},
   "source": [
    "## Get Data \n",
    "Read the data into a dataframe, set the dataframe's index to the 'timestamp' column and parse the dates so that they become datetime objects.  Get a count of null values for each column."
   ]
  },
  {
   "cell_type": "code",
   "execution_count": 60,
   "metadata": {
    "scrolled": true
   },
   "outputs": [],
   "source": [
    "#df = pd.read_csv('sensor.csv', index_col='timestamp', parse_dates=True)\n",
    "df = get_all_as_df()\n",
    "\n"
   ]
  },
  {
   "cell_type": "markdown",
   "metadata": {},
   "source": [
    "## Null count for each column\n",
    "Make a list of columns that have too many nulls and remove those columns from the dataframe."
   ]
  },
  {
   "cell_type": "code",
   "execution_count": 61,
   "metadata": {},
   "outputs": [
    {
     "name": "stdout",
     "output_type": "stream",
     "text": [
      "sensor_00         10208\n",
      "sensor_01           369\n",
      "sensor_02            19\n",
      "sensor_03            19\n",
      "sensor_04            19\n",
      "sensor_05            19\n",
      "sensor_06          4798\n",
      "sensor_07          5451\n",
      "sensor_08          5107\n",
      "sensor_09          4595\n",
      "sensor_10            19\n",
      "sensor_11            19\n",
      "sensor_12            19\n",
      "sensor_13            19\n",
      "sensor_14            21\n",
      "sensor_15             0\n",
      "sensor_16            31\n",
      "sensor_17            46\n",
      "sensor_18            46\n",
      "sensor_19            16\n",
      "sensor_20            16\n",
      "sensor_21            16\n",
      "sensor_22            41\n",
      "sensor_23            16\n",
      "sensor_24            16\n",
      "sensor_25            36\n",
      "sensor_26            20\n",
      "sensor_27            16\n",
      "sensor_28            16\n",
      "sensor_29            72\n",
      "sensor_30           261\n",
      "sensor_31            16\n",
      "sensor_32            68\n",
      "sensor_33            16\n",
      "sensor_34            16\n",
      "sensor_35            16\n",
      "sensor_36            16\n",
      "sensor_37            16\n",
      "sensor_38            27\n",
      "sensor_39            27\n",
      "sensor_40            27\n",
      "sensor_41            27\n",
      "sensor_42            27\n",
      "sensor_43            27\n",
      "sensor_44            27\n",
      "sensor_45            27\n",
      "sensor_46            27\n",
      "sensor_47            27\n",
      "sensor_48            27\n",
      "sensor_49            27\n",
      "sensor_50         77017\n",
      "sensor_51         15383\n",
      "machine_status        0\n",
      "dtype: int64\n"
     ]
    }
   ],
   "source": [
    "nulls_series = get_null_list(df)\n",
    "print(nulls_series)"
   ]
  },
  {
   "cell_type": "code",
   "execution_count": 49,
   "metadata": {},
   "outputs": [],
   "source": [
    "bad_col_list = ['Unnamed: 0', 'sensor_00', 'sensor_15', 'sensor_50', 'sensor_51']\n",
    "drop_bad_cols(df, bad_col_list)"
   ]
  },
  {
   "cell_type": "markdown",
   "metadata": {},
   "source": [
    "## Convert 'machine_status' values with numerics\n",
    "Convert the textual machine_status values, 'BROKEN', 'NORMAL', 'RECOVERING' to numeric values"
   ]
  },
  {
   "cell_type": "code",
   "execution_count": 50,
   "metadata": {
    "scrolled": false
   },
   "outputs": [
    {
     "data": {
      "text/html": [
       "<div>\n",
       "<style scoped>\n",
       "    .dataframe tbody tr th:only-of-type {\n",
       "        vertical-align: middle;\n",
       "    }\n",
       "\n",
       "    .dataframe tbody tr th {\n",
       "        vertical-align: top;\n",
       "    }\n",
       "\n",
       "    .dataframe thead th {\n",
       "        text-align: right;\n",
       "    }\n",
       "</style>\n",
       "<table border=\"1\" class=\"dataframe\">\n",
       "  <thead>\n",
       "    <tr style=\"text-align: right;\">\n",
       "      <th></th>\n",
       "      <th>sensor_01</th>\n",
       "      <th>sensor_02</th>\n",
       "      <th>sensor_03</th>\n",
       "      <th>sensor_04</th>\n",
       "      <th>sensor_05</th>\n",
       "      <th>sensor_06</th>\n",
       "      <th>sensor_07</th>\n",
       "      <th>sensor_08</th>\n",
       "      <th>sensor_09</th>\n",
       "      <th>sensor_10</th>\n",
       "      <th>...</th>\n",
       "      <th>sensor_41</th>\n",
       "      <th>sensor_42</th>\n",
       "      <th>sensor_43</th>\n",
       "      <th>sensor_44</th>\n",
       "      <th>sensor_45</th>\n",
       "      <th>sensor_46</th>\n",
       "      <th>sensor_47</th>\n",
       "      <th>sensor_48</th>\n",
       "      <th>sensor_49</th>\n",
       "      <th>machine_status</th>\n",
       "    </tr>\n",
       "    <tr>\n",
       "      <th>timestamp</th>\n",
       "      <th></th>\n",
       "      <th></th>\n",
       "      <th></th>\n",
       "      <th></th>\n",
       "      <th></th>\n",
       "      <th></th>\n",
       "      <th></th>\n",
       "      <th></th>\n",
       "      <th></th>\n",
       "      <th></th>\n",
       "      <th></th>\n",
       "      <th></th>\n",
       "      <th></th>\n",
       "      <th></th>\n",
       "      <th></th>\n",
       "      <th></th>\n",
       "      <th></th>\n",
       "      <th></th>\n",
       "      <th></th>\n",
       "      <th></th>\n",
       "      <th></th>\n",
       "    </tr>\n",
       "  </thead>\n",
       "  <tbody>\n",
       "    <tr>\n",
       "      <th>2018-04-01 00:00:00</th>\n",
       "      <td>47.09201</td>\n",
       "      <td>53.2118</td>\n",
       "      <td>46.310760</td>\n",
       "      <td>634.3750</td>\n",
       "      <td>76.45975</td>\n",
       "      <td>13.41146</td>\n",
       "      <td>16.13136</td>\n",
       "      <td>15.56713</td>\n",
       "      <td>15.05353</td>\n",
       "      <td>37.22740</td>\n",
       "      <td>...</td>\n",
       "      <td>30.98958</td>\n",
       "      <td>31.770832</td>\n",
       "      <td>41.92708</td>\n",
       "      <td>39.641200</td>\n",
       "      <td>65.68287</td>\n",
       "      <td>50.92593</td>\n",
       "      <td>38.194440</td>\n",
       "      <td>157.9861</td>\n",
       "      <td>67.70834</td>\n",
       "      <td>0.0</td>\n",
       "    </tr>\n",
       "    <tr>\n",
       "      <th>2018-04-01 00:01:00</th>\n",
       "      <td>47.09201</td>\n",
       "      <td>53.2118</td>\n",
       "      <td>46.310760</td>\n",
       "      <td>634.3750</td>\n",
       "      <td>76.45975</td>\n",
       "      <td>13.41146</td>\n",
       "      <td>16.13136</td>\n",
       "      <td>15.56713</td>\n",
       "      <td>15.05353</td>\n",
       "      <td>37.22740</td>\n",
       "      <td>...</td>\n",
       "      <td>30.98958</td>\n",
       "      <td>31.770832</td>\n",
       "      <td>41.92708</td>\n",
       "      <td>39.641200</td>\n",
       "      <td>65.68287</td>\n",
       "      <td>50.92593</td>\n",
       "      <td>38.194440</td>\n",
       "      <td>157.9861</td>\n",
       "      <td>67.70834</td>\n",
       "      <td>0.0</td>\n",
       "    </tr>\n",
       "    <tr>\n",
       "      <th>2018-04-01 00:02:00</th>\n",
       "      <td>47.35243</td>\n",
       "      <td>53.2118</td>\n",
       "      <td>46.397570</td>\n",
       "      <td>638.8889</td>\n",
       "      <td>73.54598</td>\n",
       "      <td>13.32465</td>\n",
       "      <td>16.03733</td>\n",
       "      <td>15.61777</td>\n",
       "      <td>15.01013</td>\n",
       "      <td>37.86777</td>\n",
       "      <td>...</td>\n",
       "      <td>30.46875</td>\n",
       "      <td>31.770830</td>\n",
       "      <td>41.66666</td>\n",
       "      <td>39.351852</td>\n",
       "      <td>65.39352</td>\n",
       "      <td>51.21528</td>\n",
       "      <td>38.194443</td>\n",
       "      <td>155.9606</td>\n",
       "      <td>67.12963</td>\n",
       "      <td>0.0</td>\n",
       "    </tr>\n",
       "    <tr>\n",
       "      <th>2018-04-01 00:03:00</th>\n",
       "      <td>47.09201</td>\n",
       "      <td>53.1684</td>\n",
       "      <td>46.397568</td>\n",
       "      <td>628.1250</td>\n",
       "      <td>76.98898</td>\n",
       "      <td>13.31742</td>\n",
       "      <td>16.24711</td>\n",
       "      <td>15.69734</td>\n",
       "      <td>15.08247</td>\n",
       "      <td>38.57977</td>\n",
       "      <td>...</td>\n",
       "      <td>30.46875</td>\n",
       "      <td>31.510420</td>\n",
       "      <td>40.88541</td>\n",
       "      <td>39.062500</td>\n",
       "      <td>64.81481</td>\n",
       "      <td>51.21528</td>\n",
       "      <td>38.194440</td>\n",
       "      <td>155.9606</td>\n",
       "      <td>66.84028</td>\n",
       "      <td>0.0</td>\n",
       "    </tr>\n",
       "    <tr>\n",
       "      <th>2018-04-01 00:04:00</th>\n",
       "      <td>47.13541</td>\n",
       "      <td>53.2118</td>\n",
       "      <td>46.397568</td>\n",
       "      <td>636.4583</td>\n",
       "      <td>76.58897</td>\n",
       "      <td>13.35359</td>\n",
       "      <td>16.21094</td>\n",
       "      <td>15.69734</td>\n",
       "      <td>15.08247</td>\n",
       "      <td>39.48939</td>\n",
       "      <td>...</td>\n",
       "      <td>30.98958</td>\n",
       "      <td>31.510420</td>\n",
       "      <td>41.40625</td>\n",
       "      <td>38.773150</td>\n",
       "      <td>65.10416</td>\n",
       "      <td>51.79398</td>\n",
       "      <td>38.773150</td>\n",
       "      <td>158.2755</td>\n",
       "      <td>66.55093</td>\n",
       "      <td>0.0</td>\n",
       "    </tr>\n",
       "  </tbody>\n",
       "</table>\n",
       "<p>5 rows × 49 columns</p>\n",
       "</div>"
      ],
      "text/plain": [
       "                     sensor_01  sensor_02  sensor_03  sensor_04  sensor_05  \\\n",
       "timestamp                                                                    \n",
       "2018-04-01 00:00:00   47.09201    53.2118  46.310760   634.3750   76.45975   \n",
       "2018-04-01 00:01:00   47.09201    53.2118  46.310760   634.3750   76.45975   \n",
       "2018-04-01 00:02:00   47.35243    53.2118  46.397570   638.8889   73.54598   \n",
       "2018-04-01 00:03:00   47.09201    53.1684  46.397568   628.1250   76.98898   \n",
       "2018-04-01 00:04:00   47.13541    53.2118  46.397568   636.4583   76.58897   \n",
       "\n",
       "                     sensor_06  sensor_07  sensor_08  sensor_09  sensor_10  \\\n",
       "timestamp                                                                    \n",
       "2018-04-01 00:00:00   13.41146   16.13136   15.56713   15.05353   37.22740   \n",
       "2018-04-01 00:01:00   13.41146   16.13136   15.56713   15.05353   37.22740   \n",
       "2018-04-01 00:02:00   13.32465   16.03733   15.61777   15.01013   37.86777   \n",
       "2018-04-01 00:03:00   13.31742   16.24711   15.69734   15.08247   38.57977   \n",
       "2018-04-01 00:04:00   13.35359   16.21094   15.69734   15.08247   39.48939   \n",
       "\n",
       "                     ...  sensor_41  sensor_42  sensor_43  sensor_44  \\\n",
       "timestamp            ...                                               \n",
       "2018-04-01 00:00:00  ...   30.98958  31.770832   41.92708  39.641200   \n",
       "2018-04-01 00:01:00  ...   30.98958  31.770832   41.92708  39.641200   \n",
       "2018-04-01 00:02:00  ...   30.46875  31.770830   41.66666  39.351852   \n",
       "2018-04-01 00:03:00  ...   30.46875  31.510420   40.88541  39.062500   \n",
       "2018-04-01 00:04:00  ...   30.98958  31.510420   41.40625  38.773150   \n",
       "\n",
       "                     sensor_45  sensor_46  sensor_47  sensor_48  sensor_49  \\\n",
       "timestamp                                                                    \n",
       "2018-04-01 00:00:00   65.68287   50.92593  38.194440   157.9861   67.70834   \n",
       "2018-04-01 00:01:00   65.68287   50.92593  38.194440   157.9861   67.70834   \n",
       "2018-04-01 00:02:00   65.39352   51.21528  38.194443   155.9606   67.12963   \n",
       "2018-04-01 00:03:00   64.81481   51.21528  38.194440   155.9606   66.84028   \n",
       "2018-04-01 00:04:00   65.10416   51.79398  38.773150   158.2755   66.55093   \n",
       "\n",
       "                     machine_status  \n",
       "timestamp                            \n",
       "2018-04-01 00:00:00             0.0  \n",
       "2018-04-01 00:01:00             0.0  \n",
       "2018-04-01 00:02:00             0.0  \n",
       "2018-04-01 00:03:00             0.0  \n",
       "2018-04-01 00:04:00             0.0  \n",
       "\n",
       "[5 rows x 49 columns]"
      ]
     },
     "execution_count": 50,
     "metadata": {},
     "output_type": "execute_result"
    }
   ],
   "source": [
    "machine_status_to_numeric(df)\n",
    "df.head()"
   ]
  },
  {
   "cell_type": "markdown",
   "metadata": {},
   "source": [
    "## Plot some sensor data\n",
    "Plot three sensor values and compare the plots to the plot of the machine_status column."
   ]
  },
  {
   "cell_type": "code",
   "execution_count": 51,
   "metadata": {},
   "outputs": [
    {
     "data": {
      "image/png": "[encoded data removed]",
      "text/plain": [
       "<Figure size 1000x400 with 4 Axes>"
      ]
     },
     "metadata": {},
     "output_type": "display_data"
    }
   ],
   "source": [
    "plot_specific_cols(df)"
   ]
  },
  {
   "cell_type": "markdown",
   "metadata": {},
   "source": [
    "## Replace blank and NaN values with mean for each column\n",
    "Replace all blank values in the dataframe with NaN and then replace all NaN values with the mean of each column."
   ]
  },
  {
   "cell_type": "code",
   "execution_count": 52,
   "metadata": {},
   "outputs": [],
   "source": [
    "replace_nan_with_mean(df)"
   ]
  },
  {
   "cell_type": "markdown",
   "metadata": {},
   "source": [
    "## Get failure times\n",
    "Get all failure times.  "
   ]
  },
  {
   "cell_type": "code",
   "execution_count": 53,
   "metadata": {},
   "outputs": [
    {
     "name": "stdout",
     "output_type": "stream",
     "text": [
      "Failure times: DatetimeIndex(['2018-04-12 21:55:00', '2018-04-18 00:30:00',\n",
      "               '2018-05-19 03:18:00', '2018-05-25 00:30:00',\n",
      "               '2018-06-28 22:00:00', '2018-07-08 00:11:00',\n",
      "               '2018-07-25 14:00:00'],\n",
      "              dtype='datetime64[ns]', name='timestamp', freq=None)\n"
     ]
    }
   ],
   "source": [
    "failure_times = get_failure_times(df)\n",
    "print(\"Failure times: {}\".format(failure_times))"
   ]
  },
  {
   "cell_type": "markdown",
   "metadata": {},
   "source": [
    "## Split data by failure times\n",
    "Separate data into training, validation and test dataframes.  The slicing will be done as follows:\n",
    "    \n",
    "    Validation data will consist of all rows from the start of the data file to two minutes after the first failure time\n",
    "    Test data will consist of all rows from two minutes after the first failure to two minutes after the second failure time\n",
    "    Training data will consist of all rows from two minutes after the second failure to the end of the data file."
   ]
  },
  {
   "cell_type": "code",
   "execution_count": 54,
   "metadata": {
    "scrolled": false
   },
   "outputs": [],
   "source": [
    "df_train, df_val, df_test = separate_data(df, failure_times)"
   ]
  },
  {
   "cell_type": "markdown",
   "metadata": {},
   "source": [
    "## Create a MinMaxScaler for training data\n",
    "Fit a MinMaxScaler to the training data"
   ]
  },
  {
   "cell_type": "code",
   "execution_count": 55,
   "metadata": {
    "scrolled": false
   },
   "outputs": [],
   "source": [
    "training_scaler = get_scaler(df_train)"
   ]
  },
  {
   "cell_type": "markdown",
   "metadata": {},
   "source": [
    "## Transform all data using MinMaxScaler that was fit to training data\n",
    "Scale transform the training, validation, and test data using the training scaler."
   ]
  },
  {
   "cell_type": "code",
   "execution_count": 56,
   "metadata": {},
   "outputs": [],
   "source": [
    "scaled_train = scale_dataframe(training_scaler, df_train)\n",
    "scaled_val = scale_dataframe(training_scaler, df_val)\n",
    "scaled_test = scale_dataframe(training_scaler, df_test)\n"
   ]
  },
  {
   "cell_type": "markdown",
   "metadata": {},
   "source": [
    "## Create a PCA that is fit on the training data\n",
    "Fit the scaled training data with a PCA analysis.  Plot the cumulative sum of the variance to determine how many PC's \n",
    "are needed to reach 95% of the threshold.\n",
    "\n",
    "The Principal Component Analysis (PCA) makes linear combinations ( Called Principal Components) of all the features and then ranks those combinations by their per cent contribution to the total variance. We then see how many Principal\n",
    "Components we need to account for a threshold of 95% of the total variance.  We will see by the graph generated that we will need 12 PC's to account for 95%.\n",
    "\n",
    "We will then use 12 PC's instead of 47 sensors to do our model training, testing and prediction.  So by using the PCA transformation, we reduce our need for 47 features to only 12 features."
   ]
  },
  {
   "cell_type": "code",
   "execution_count": 57,
   "metadata": {},
   "outputs": [
    {
     "data": {
      "image/png": "[encoded data removed]",
      "text/plain": [
       "<Figure size 1200x600 with 1 Axes>"
      ]
     },
     "metadata": {},
     "output_type": "display_data"
    }
   ],
   "source": [
    "pca = get_PCA(scaled_train)\n",
    "plot_pca(pca, len(df_train.columns) - 1)"
   ]
  },
  {
   "cell_type": "markdown",
   "metadata": {},
   "source": [
    "## Transform all the data using the fitted PCA\n",
    "Transform the scaled training, validation and test data using the fitted PCA "
   ]
  },
  {
   "cell_type": "code",
   "execution_count": 58,
   "metadata": {},
   "outputs": [],
   "source": [
    "num_pc_to_include = 12\n",
    "df_train_pca = transform_df_by_pca(pca, df_train, scaled_train, num_pc_to_include)\n",
    "df_val_pca = transform_df_by_pca(pca, df_val, scaled_val, num_pc_to_include)\n",
    "df_test_pca = transform_df_by_pca(pca, df_test, scaled_test, num_pc_to_include)\n"
   ]
  },
  {
   "cell_type": "code",
   "execution_count": 59,
   "metadata": {},
   "outputs": [
    {
     "data": {
      "text/html": [
       "<div>\n",
       "<style scoped>\n",
       "    .dataframe tbody tr th:only-of-type {\n",
       "        vertical-align: middle;\n",
       "    }\n",
       "\n",
       "    .dataframe tbody tr th {\n",
       "        vertical-align: top;\n",
       "    }\n",
       "\n",
       "    .dataframe thead th {\n",
       "        text-align: right;\n",
       "    }\n",
       "</style>\n",
       "<table border=\"1\" class=\"dataframe\">\n",
       "  <thead>\n",
       "    <tr style=\"text-align: right;\">\n",
       "      <th></th>\n",
       "      <th>pc1</th>\n",
       "      <th>pc2</th>\n",
       "      <th>pc3</th>\n",
       "      <th>pc4</th>\n",
       "      <th>pc5</th>\n",
       "      <th>pc6</th>\n",
       "      <th>pc7</th>\n",
       "      <th>pc8</th>\n",
       "      <th>pc9</th>\n",
       "      <th>pc10</th>\n",
       "      <th>pc11</th>\n",
       "      <th>pc12</th>\n",
       "      <th>machine_status</th>\n",
       "    </tr>\n",
       "    <tr>\n",
       "      <th>timestamp</th>\n",
       "      <th></th>\n",
       "      <th></th>\n",
       "      <th></th>\n",
       "      <th></th>\n",
       "      <th></th>\n",
       "      <th></th>\n",
       "      <th></th>\n",
       "      <th></th>\n",
       "      <th></th>\n",
       "      <th></th>\n",
       "      <th></th>\n",
       "      <th></th>\n",
       "      <th></th>\n",
       "    </tr>\n",
       "  </thead>\n",
       "  <tbody>\n",
       "    <tr>\n",
       "      <th>2018-04-18 02:30:00</th>\n",
       "      <td>-0.128641</td>\n",
       "      <td>1.410076</td>\n",
       "      <td>0.194306</td>\n",
       "      <td>0.446849</td>\n",
       "      <td>-0.380950</td>\n",
       "      <td>-0.105999</td>\n",
       "      <td>0.068558</td>\n",
       "      <td>0.171579</td>\n",
       "      <td>-0.020029</td>\n",
       "      <td>-0.089618</td>\n",
       "      <td>0.042070</td>\n",
       "      <td>-0.047774</td>\n",
       "      <td>0.5</td>\n",
       "    </tr>\n",
       "    <tr>\n",
       "      <th>2018-04-18 02:31:00</th>\n",
       "      <td>-0.121417</td>\n",
       "      <td>1.417852</td>\n",
       "      <td>0.173372</td>\n",
       "      <td>0.437315</td>\n",
       "      <td>-0.392624</td>\n",
       "      <td>-0.086322</td>\n",
       "      <td>0.044358</td>\n",
       "      <td>0.173201</td>\n",
       "      <td>-0.005303</td>\n",
       "      <td>-0.070027</td>\n",
       "      <td>0.031231</td>\n",
       "      <td>-0.048875</td>\n",
       "      <td>0.5</td>\n",
       "    </tr>\n",
       "    <tr>\n",
       "      <th>2018-04-18 02:32:00</th>\n",
       "      <td>-0.126777</td>\n",
       "      <td>1.422542</td>\n",
       "      <td>0.161684</td>\n",
       "      <td>0.427027</td>\n",
       "      <td>-0.401568</td>\n",
       "      <td>-0.081803</td>\n",
       "      <td>0.015023</td>\n",
       "      <td>0.177289</td>\n",
       "      <td>-0.005135</td>\n",
       "      <td>-0.052899</td>\n",
       "      <td>0.032534</td>\n",
       "      <td>-0.057414</td>\n",
       "      <td>0.5</td>\n",
       "    </tr>\n",
       "    <tr>\n",
       "      <th>2018-04-18 02:33:00</th>\n",
       "      <td>-0.119010</td>\n",
       "      <td>1.417832</td>\n",
       "      <td>0.174297</td>\n",
       "      <td>0.433716</td>\n",
       "      <td>-0.394863</td>\n",
       "      <td>-0.097057</td>\n",
       "      <td>0.022641</td>\n",
       "      <td>0.175827</td>\n",
       "      <td>-0.011169</td>\n",
       "      <td>-0.062327</td>\n",
       "      <td>0.041721</td>\n",
       "      <td>-0.052791</td>\n",
       "      <td>0.5</td>\n",
       "    </tr>\n",
       "    <tr>\n",
       "      <th>2018-04-18 02:34:00</th>\n",
       "      <td>-0.128034</td>\n",
       "      <td>1.416018</td>\n",
       "      <td>0.173724</td>\n",
       "      <td>0.433398</td>\n",
       "      <td>-0.393999</td>\n",
       "      <td>-0.087187</td>\n",
       "      <td>0.039675</td>\n",
       "      <td>0.172969</td>\n",
       "      <td>-0.011848</td>\n",
       "      <td>-0.064721</td>\n",
       "      <td>0.038477</td>\n",
       "      <td>-0.048676</td>\n",
       "      <td>0.5</td>\n",
       "    </tr>\n",
       "  </tbody>\n",
       "</table>\n",
       "</div>"
      ],
      "text/plain": [
       "                          pc1       pc2       pc3       pc4       pc5  \\\n",
       "timestamp                                                               \n",
       "2018-04-18 02:30:00 -0.128641  1.410076  0.194306  0.446849 -0.380950   \n",
       "2018-04-18 02:31:00 -0.121417  1.417852  0.173372  0.437315 -0.392624   \n",
       "2018-04-18 02:32:00 -0.126777  1.422542  0.161684  0.427027 -0.401568   \n",
       "2018-04-18 02:33:00 -0.119010  1.417832  0.174297  0.433716 -0.394863   \n",
       "2018-04-18 02:34:00 -0.128034  1.416018  0.173724  0.433398 -0.393999   \n",
       "\n",
       "                          pc6       pc7       pc8       pc9      pc10  \\\n",
       "timestamp                                                               \n",
       "2018-04-18 02:30:00 -0.105999  0.068558  0.171579 -0.020029 -0.089618   \n",
       "2018-04-18 02:31:00 -0.086322  0.044358  0.173201 -0.005303 -0.070027   \n",
       "2018-04-18 02:32:00 -0.081803  0.015023  0.177289 -0.005135 -0.052899   \n",
       "2018-04-18 02:33:00 -0.097057  0.022641  0.175827 -0.011169 -0.062327   \n",
       "2018-04-18 02:34:00 -0.087187  0.039675  0.172969 -0.011848 -0.064721   \n",
       "\n",
       "                         pc11      pc12  machine_status  \n",
       "timestamp                                                \n",
       "2018-04-18 02:30:00  0.042070 -0.047774             0.5  \n",
       "2018-04-18 02:31:00  0.031231 -0.048875             0.5  \n",
       "2018-04-18 02:32:00  0.032534 -0.057414             0.5  \n",
       "2018-04-18 02:33:00  0.041721 -0.052791             0.5  \n",
       "2018-04-18 02:34:00  0.038477 -0.048676             0.5  "
      ]
     },
     "execution_count": 59,
     "metadata": {},
     "output_type": "execute_result"
    }
   ],
   "source": [
    "df_train_pca.head()"
   ]
  },
  {
   "cell_type": "code",
   "execution_count": null,
   "metadata": {},
   "outputs": [],
   "source": []
  }
 ],
 "metadata": {
  "kernelspec": {
   "display_name": "Python 3 (ipykernel)",
   "language": "python",
   "name": "python3"
  },
  "language_info": {
   "codemirror_mode": {
    "name": "ipython",
    "version": 3
   },
   "file_extension": ".py",
   "mimetype": "text/x-python",
   "name": "python",
   "nbconvert_exporter": "python",
   "pygments_lexer": "ipython3",
   "version": "3.8.7"
  }
 },
 "nbformat": 4,
 "nbformat_minor": 2
}
