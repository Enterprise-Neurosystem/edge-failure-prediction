{
 "cells": [
  {
   "cell_type": "markdown",
   "id": "5172422b-f101-41d8-9e87-b69cac6d4e75",
   "metadata": {},
   "source": [
    "# Let's Get Started!\n",
    "Welcome to the **data discovery** notebooks in the workshop. Our real-time data simulates pumps and their sensor readings. We'll analyze the changes over time to predict when a failure might occur."
   ]
  },
  {
   "cell_type": "markdown",
   "id": "93ddc851-2c16-43a8-88f5-0a96dabc7edc",
   "metadata": {
    "tags": []
   },
   "source": [
    "## Importing our data\n",
    "Our PostgreS dataset is hosted on aws. We can create a connection via our username and password, then proceed to pull all of the data available.\n"
   ]
  },
  {
   "cell_type": "markdown",
   "id": "f01a7fa7-0a1f-40f6-82b7-cc143a22399d",
   "metadata": {},
   "source": [
    "As always, we'll first run some imports to make sure all our requirements are there:"
   ]
  },
  {
   "cell_type": "code",
   "execution_count": 2,
   "id": "612a36e5-8418-4d73-ae87-9cb039afc972",
   "metadata": {
    "tags": []
   },
   "outputs": [
    {
     "name": "stdout",
     "output_type": "stream",
     "text": [
      "Current working directory: /opt/app-root/src/edge-prediction-failure/workshop/PumpDataDiscovery\n",
      "Current working directory: /opt/app-root/src/edge-prediction-failure/workshop/PumpDataDiscovery\n"
     ]
    }
   ],
   "source": [
    "import os\n",
    "import pandas as pd\n",
    "import psycopg2\n",
    "\n",
    "import warnings\n",
    "warnings.filterwarnings('ignore')\n",
    "\n",
    "\n",
    "\n",
    "# Get the current working directory\n",
    "cwd = os.getcwd()\n",
    "\n",
    "# Print the current working directory\n",
    "print(\"Current working directory: {0}\".format(cwd))\n",
    "os.chdir('../PumpDataDiscovery')\n",
    "cwd = os.getcwd()\n",
    "print(\"Current working directory: {0}\".format(cwd))"
   ]
  },
  {
   "cell_type": "code",
   "execution_count": 3,
   "id": "66dc850c-6b14-4b70-b964-adae57c9eec7",
   "metadata": {},
   "outputs": [],
   "source": [
    "#Creates a connection to a database\n",
    "conn = psycopg2.connect(\n",
    "database=\"postgres\", user='ad_postgres', password='AWSw0rksh0p', \n",
    "host='db-anomalydetect-postgres.chanowujpkf4.us-east-1.rds.amazonaws.com')\n",
    "GET_ALL_ROWS = 'Select * from newkaggle order by timestamp'\n",
    "try:\n",
    "    with conn:\n",
    "        #Pull our dataset into a pandas dataframe\n",
    "        df = pd.read_sql_query(GET_ALL_ROWS, conn)\n",
    "        df.set_index('timestamp', inplace=True)\n",
    "except (Exception, psycopg2.DatabaseError) as err:\n",
    "    print(err)\n",
    "finally:\n",
    "    conn.close()"
   ]
  },
  {
   "cell_type": "markdown",
   "id": "f91d8e91-b9be-484e-981f-4282d8fc33f6",
   "metadata": {},
   "source": [
    "Before we look at all the numbers and timestamps, we can get some information about the dataframe.\n",
    "\n",
    "First off, we can tell our dataset has 51 sensors of some information, and about 200,000 rows. Plus, there is a **machine_status** vairable.\n",
    "\n",
    "Additionally, we can tell there exists **non-null values** inside the columns. Thus, we'll eventualy need to decide how to manage those values.\n",
    "\n",
    "The typing of almost all the columns is a **float64**, so we shouldn't have to change much in order to perform math operations.\n",
    "\n",
    "Let's get into making some adjustments in the next notebook.\n"
   ]
  },
  {
   "cell_type": "code",
   "execution_count": 4,
   "id": "4bd6eb26-64b9-4715-b958-d03755637b71",
   "metadata": {},
   "outputs": [
    {
     "name": "stdout",
     "output_type": "stream",
     "text": [
      "<class 'pandas.core.frame.DataFrame'>\n",
      "DatetimeIndex: 220320 entries, 2018-04-01 00:00:00 to 2018-08-31 23:59:00\n",
      "Data columns (total 53 columns):\n",
      " #   Column          Non-Null Count   Dtype  \n",
      "---  ------          --------------   -----  \n",
      " 0   sensor_00       210112 non-null  float64\n",
      " 1   sensor_01       219951 non-null  float64\n",
      " 2   sensor_02       220301 non-null  float64\n",
      " 3   sensor_03       220301 non-null  float64\n",
      " 4   sensor_04       220301 non-null  float64\n",
      " 5   sensor_05       220301 non-null  float64\n",
      " 6   sensor_06       215522 non-null  float64\n",
      " 7   sensor_07       214869 non-null  float64\n",
      " 8   sensor_08       215213 non-null  float64\n",
      " 9   sensor_09       215725 non-null  float64\n",
      " 10  sensor_10       220301 non-null  float64\n",
      " 11  sensor_11       220301 non-null  float64\n",
      " 12  sensor_12       220301 non-null  float64\n",
      " 13  sensor_13       220301 non-null  float64\n",
      " 14  sensor_14       220299 non-null  float64\n",
      " 15  sensor_15       220320 non-null  float64\n",
      " 16  sensor_16       220289 non-null  float64\n",
      " 17  sensor_17       220274 non-null  float64\n",
      " 18  sensor_18       220274 non-null  float64\n",
      " 19  sensor_19       220304 non-null  float64\n",
      " 20  sensor_20       220304 non-null  float64\n",
      " 21  sensor_21       220304 non-null  float64\n",
      " 22  sensor_22       220279 non-null  float64\n",
      " 23  sensor_23       220304 non-null  float64\n",
      " 24  sensor_24       220304 non-null  float64\n",
      " 25  sensor_25       220284 non-null  float64\n",
      " 26  sensor_26       220300 non-null  float64\n",
      " 27  sensor_27       220304 non-null  float64\n",
      " 28  sensor_28       220304 non-null  float64\n",
      " 29  sensor_29       220248 non-null  float64\n",
      " 30  sensor_30       220059 non-null  float64\n",
      " 31  sensor_31       220304 non-null  float64\n",
      " 32  sensor_32       220252 non-null  float64\n",
      " 33  sensor_33       220304 non-null  float64\n",
      " 34  sensor_34       220304 non-null  float64\n",
      " 35  sensor_35       220304 non-null  float64\n",
      " 36  sensor_36       220304 non-null  float64\n",
      " 37  sensor_37       220304 non-null  float64\n",
      " 38  sensor_38       220293 non-null  float64\n",
      " 39  sensor_39       220293 non-null  float64\n",
      " 40  sensor_40       220293 non-null  float64\n",
      " 41  sensor_41       220293 non-null  float64\n",
      " 42  sensor_42       220293 non-null  float64\n",
      " 43  sensor_43       220293 non-null  float64\n",
      " 44  sensor_44       220293 non-null  float64\n",
      " 45  sensor_45       220293 non-null  float64\n",
      " 46  sensor_46       220293 non-null  float64\n",
      " 47  sensor_47       220293 non-null  float64\n",
      " 48  sensor_48       220293 non-null  float64\n",
      " 49  sensor_49       220293 non-null  float64\n",
      " 50  sensor_50       143303 non-null  float64\n",
      " 51  sensor_51       204937 non-null  float64\n",
      " 52  machine_status  220320 non-null  object \n",
      "dtypes: float64(52), object(1)\n",
      "memory usage: 90.8+ MB\n"
     ]
    }
   ],
   "source": [
    "df.info()"
   ]
  },
  {
   "cell_type": "code",
   "execution_count": null,
   "id": "9a5e0842-77e6-456e-9aeb-673e4426bc14",
   "metadata": {},
   "outputs": [],
   "source": []
  }
 ],
 "metadata": {
  "kernelspec": {
   "display_name": "Python 3 (ipykernel)",
   "language": "python",
   "name": "python3"
  },
  "language_info": {
   "codemirror_mode": {
    "name": "ipython",
    "version": 3
   },
   "file_extension": ".py",
   "mimetype": "text/x-python",
   "name": "python",
   "nbconvert_exporter": "python",
   "pygments_lexer": "ipython3",
   "version": "3.8.12"
  }
 },
 "nbformat": 4,
 "nbformat_minor": 5
}
