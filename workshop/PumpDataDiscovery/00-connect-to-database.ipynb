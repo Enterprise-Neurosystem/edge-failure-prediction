{
 "cells": [
  {
   "cell_type": "markdown",
   "id": "5172422b-f101-41d8-9e87-b69cac6d4e75",
   "metadata": {},
   "source": [
    "# Let's Get Started!\n",
    "Welcome to the **data discovery** notebooks in the workshop. Our real-time data simulates pumps and their sensor readings. We'll analyze the changes over time to predict when a failure might occur."
   ]
  },
  {
   "cell_type": "markdown",
   "id": "93ddc851-2c16-43a8-88f5-0a96dabc7edc",
   "metadata": {
    "tags": []
   },
   "source": [
    "## Importing our data\n",
    "Our PostgreS dataset is hosted on aws. We can create a connection via our username and password, then proceed to pull all of the data available.\n"
   ]
  },
  {
   "cell_type": "markdown",
   "id": "f01a7fa7-0a1f-40f6-82b7-cc143a22399d",
   "metadata": {},
   "source": [
    "As always, we'll first run some imports to make sure all our requirements are there:"
   ]
  },
  {
   "cell_type": "code",
   "execution_count": null,
   "id": "612a36e5-8418-4d73-ae87-9cb039afc972",
   "metadata": {
    "tags": []
   },
   "outputs": [],
   "source": [
    "import os\n",
    "import pandas as pd\n",
    "import psycopg2\n",
    "\n",
    "import warnings\n",
    "warnings.filterwarnings('ignore')\n",
    "\n",
    "# Get the current working directory\n",
    "cwd = os.getcwd()\n",
    "\n",
    "# Print the current working directory\n",
    "print(\"Current working directory: {0}\".format(cwd))\n",
    "os.chdir('../PumpDataDiscovery')\n",
    "cwd = os.getcwd()\n",
    "print(\"Current working directory: {0}\".format(cwd))"
   ]
  },
  {
   "cell_type": "code",
   "execution_count": null,
   "id": "66dc850c-6b14-4b70-b964-adae57c9eec7",
   "metadata": {},
   "outputs": [],
   "source": [
    "#Creates a connection to a database\n",
    "conn = psycopg2.connect(\n",
    "database=\"postgres\", user='ad_postgres', password='AWSw0rksh0p', \n",
    "host='db-anomalydetect-postgres.chanowujpkf4.us-east-1.rds.amazonaws.com')\n",
    "GET_ALL_ROWS = 'Select * from waterpump order by timestamp'\n",
    "try:\n",
    "    with conn:\n",
    "        #Pull our dataset into a pandas dataframe\n",
    "        df = pd.read_sql_query(GET_ALL_ROWS, conn)\n",
    "        df.set_index('timestamp', inplace=True)\n",
    "except (Exception, psycopg2.DatabaseError) as err:\n",
    "    print(err)\n",
    "finally:\n",
    "    conn.close()"
   ]
  },
  {
   "cell_type": "markdown",
   "id": "f91d8e91-b9be-484e-981f-4282d8fc33f6",
   "metadata": {},
   "source": [
    "Before we look at all the numbers and timestamps, we can get some information about the dataframe.\n",
    "\n",
    "First off, we can tell our dataset has 51 sensors of some information, and about 200,000 rows. Plus, there is a **machine_status** vairable.\n",
    "\n",
    "Additionally, we can tell there exists **non-null values** inside the columns. Thus, we'll eventualy need to decide how to manage those values.\n",
    "\n",
    "The typing of almost all the columns is a **float64**, so we shouldn't have to change much in order to perform math operations.\n",
    "\n",
    "Let's get into making some adjustments in the next notebook.\n"
   ]
  },
  {
   "cell_type": "code",
   "execution_count": null,
   "id": "4bd6eb26-64b9-4715-b958-d03755637b71",
   "metadata": {},
   "outputs": [],
   "source": [
    "df.info()"
   ]
  }
 ],
 "metadata": {
  "kernelspec": {
   "display_name": "Python 3 (ipykernel)",
   "language": "python",
   "name": "python3"
  },
  "language_info": {
   "codemirror_mode": {
    "name": "ipython",
    "version": 3
   },
   "file_extension": ".py",
   "mimetype": "text/x-python",
   "name": "python",
   "nbconvert_exporter": "python",
   "pygments_lexer": "ipython3",
   "version": "3.8.12"
  }
 },
 "nbformat": 4,
 "nbformat_minor": 5
}
